{
 "cells": [
  {
   "cell_type": "code",
   "execution_count": 1,
   "metadata": {},
   "outputs": [
    {
     "ename": "ModuleNotFoundError",
     "evalue": "No module named 'tweepy'",
     "output_type": "error",
     "traceback": [
      "\u001b[0;31m---------------------------------------------------------------------------\u001b[0m",
      "\u001b[0;31mModuleNotFoundError\u001b[0m                       Traceback (most recent call last)",
      "\u001b[0;32m<ipython-input-1-a6da43119ceb>\u001b[0m in \u001b[0;36m<module>\u001b[0;34m()\u001b[0m\n\u001b[0;32m----> 1\u001b[0;31m \u001b[0;32mimport\u001b[0m \u001b[0mtweepy\u001b[0m\u001b[0;34m\u001b[0m\u001b[0m\n\u001b[0m\u001b[1;32m      2\u001b[0m \u001b[0;32mimport\u001b[0m \u001b[0mpandas\u001b[0m \u001b[0;32mas\u001b[0m \u001b[0mpd\u001b[0m\u001b[0;34m\u001b[0m\u001b[0m\n\u001b[1;32m      3\u001b[0m \u001b[0;32mimport\u001b[0m \u001b[0mnumpy\u001b[0m \u001b[0;32mas\u001b[0m \u001b[0mnp\u001b[0m\u001b[0;34m\u001b[0m\u001b[0m\n\u001b[1;32m      4\u001b[0m \u001b[0;32mimport\u001b[0m \u001b[0mstatsmodels\u001b[0m\u001b[0;34m.\u001b[0m\u001b[0mapi\u001b[0m \u001b[0;32mas\u001b[0m \u001b[0msm\u001b[0m\u001b[0;34m\u001b[0m\u001b[0m\n\u001b[1;32m      5\u001b[0m \u001b[0;34m\u001b[0m\u001b[0m\n",
      "\u001b[0;31mModuleNotFoundError\u001b[0m: No module named 'tweepy'"
     ]
    }
   ],
   "source": [
    "import tweepy\n",
    "import pandas as pd\n",
    "import numpy as np\n",
    "import statsmodels.api as sm\n",
    "\n",
    "\n",
    "key = \"Pfv5AqNYvf2dpTAqOiJLRXbsk\"\n",
    "secret = \"MZ8jQBF39lpukzQw0mCQ2xEIS1M1XdqZIl7V5MsevhspspIFQs\"\n",
    "\n",
    "comps = [\"wendys\", \"burgerking\", \"mcdonalds\", \"arbys\"]\n",
    "auth = tweepy.OAuthHandler(key, secret)\n",
    "api = tweepy.API(auth)\n",
    "tweets = {}\n",
    "df = pd.DataFrame(columns = [\"text\", \"created\", \"re\", \"fav\", \"followC\", \"sn\"])\n",
    "\n",
    "for comp in comps:\n",
    "    df = pd.DataFrame(columns = [\"text\", \"created\", \"re\", \"fav\", \"followC\", \"sn\"])\n",
    "    compTweets = tweepy.Cursor(api.user_timeline, comp)\n",
    "    for page in compTweets.pages():\n",
    "        for tweet in page:\n",
    "            #print(tweet.text.rstrip().replace(\"\\n\", \"\").replace(\",\",\"\").replace(\"\\r\",\"\"))\n",
    "            df = df.append({\n",
    "                \"text\": tweet.text.rstrip().replace(\"\\n\", \"\").replace(\",\",\"\").replace(\"\\r\",\"\"),\n",
    "                \"created\": tweet.created_at,\n",
    "                \"re\": tweet.retweet_count,\n",
    "                \"fav\": tweet.favorite_count,\n",
    "                \"followC\": tweet.user.followers_count,\n",
    "                \"sn\": tweet.user.screen_name\n",
    "            }, ignore_index=True)\n",
    "\n",
    "    tweets[comp] = df\n",
    "    features = tweets[comp].loc[:, [\"created\", \"re\", \"followC\"]]\n",
    "    target = tweets[comp].loc[:, df.columns == 'fav']\n",
    "    model = sm.OLS(target, features.astype(float)).fit()\n",
    "    predictions = model.predict(features)\n",
    "    model.summary()\n",
    "\n",
    "# for comp in comps:\n",
    "#     features = tweets[comp].loc[:, df.columns != 'fav']\n",
    "#     target = tweets[comp].loc[:, df.column == 'fav']\n",
    "#     sm.OLS(target, features).fit()\n",
    "#     predictions = model.predict(features)\n",
    "#     model.summary()\n",
    "\n",
    "#print(tweets[\"wendys\"].to_string())\n",
    "\n",
    "\n",
    "#tweet.\n",
    "    #text\n",
    "    #created_at\n",
    "    #retwee_count\n",
    "    #favorite_count\n",
    "    #user.followers_count\n",
    "    #user.name.user.screen_name\n",
    "    #follower"
   ]
  },
  {
   "cell_type": "code",
   "execution_count": 3,
   "metadata": {},
   "outputs": [
    {
     "name": "stdout",
     "output_type": "stream",
     "text": [
      "/bin/sh: conda: command not found\r\n"
     ]
    }
   ],
   "source": [
    "!conda install --yes --prefix {sys.prefix} tweepy"
   ]
  },
  {
   "cell_type": "code",
   "execution_count": null,
   "metadata": {},
   "outputs": [],
   "source": []
  }
 ],
 "metadata": {
  "kernelspec": {
   "display_name": "Python 3",
   "language": "python",
   "name": "python3"
  },
  "language_info": {
   "codemirror_mode": {
    "name": "ipython",
    "version": 3
   },
   "file_extension": ".py",
   "mimetype": "text/x-python",
   "name": "python",
   "nbconvert_exporter": "python",
   "pygments_lexer": "ipython3",
   "version": "3.6.4"
  }
 },
 "nbformat": 4,
 "nbformat_minor": 2
}
